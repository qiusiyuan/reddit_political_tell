{
 "cells": [
  {
   "cell_type": "markdown",
   "metadata": {},
   "source": [
    "## Import"
   ]
  },
  {
   "cell_type": "code",
   "execution_count": 2,
   "metadata": {},
   "outputs": [],
   "source": [
    "import os\n",
    "import argparse\n",
    "import pickle as pkl\n",
    "\n",
    "\n",
    "import numpy as np\n",
    "import matplotlib as mpl\n",
    "import matplotlib.pyplot as plt\n",
    "\n",
    "import torch\n",
    "import torch.nn as nn\n",
    "import torch.optim as optim\n",
    "import torch.nn.functional as F\n",
    "from torch.autograd import Variable\n",
    "\n",
    "import tarfile\n",
    "import pickle\n",
    "import sys"
   ]
  },
  {
   "cell_type": "markdown",
   "metadata": {},
   "source": [
    "## utility function"
   ]
  },
  {
   "cell_type": "code",
   "execution_count": 3,
   "metadata": {},
   "outputs": [],
   "source": [
    "def get_batches(inputs, targets, batch_size, shuffle=True):\n",
    "    \"\"\"Divide a dataset (usually the training set) into mini-batches of a given size. This is a\n",
    "    'generator'\"\"\"\n",
    "    \n",
    "    if inputs.shape[0] % batch_size != 0:\n",
    "        raise RuntimeError('The number of data points must be a multiple of the batch size.')\n",
    "    num_batches = inputs.shape[0] // batch_size\n",
    "\n",
    "    if shuffle:\n",
    "        idxs = np.random.permutation(inputs.shape[0])\n",
    "        inputs = inputs[idxs, :]\n",
    "        targets = targets[idxs]\n",
    "\n",
    "    for m in range(num_batches):\n",
    "        yield inputs[m*batch_size:(m+1)*batch_size, :], \\\n",
    "              targets[m*batch_size:(m+1)*batch_size]       \n",
    "\n",
    "def split_train_test(inputs, targets, train_size, test_size, shuffle=True):\n",
    "    if shuffle:\n",
    "        idxs = np.random.permutation(inputs.shape[0])\n",
    "    else:\n",
    "        idxs = range(inputs.shape[0])\n",
    "    train_idxs = idxs[:train_size]\n",
    "    test_idxs = idxs[train_size: train_size+test_size]\n",
    "    print(f\"Split train and test, train size: {len(train_idxs)}, test_size: {len(test_idxs)}\")\n",
    "    return train_idxs, test_idxs"
   ]
  },
  {
   "cell_type": "code",
   "execution_count": 4,
   "metadata": {},
   "outputs": [],
   "source": [
    "def decodeChinese(fpath, savePath = None):\n",
    "    with open(fpath, \"r\", encoding=\"gbk\") as f:\n",
    "        data = f.read()\n",
    "        if savePath: \n",
    "            with open(savePath, \"w\") as w:\n",
    "                w.write(data)\n",
    "    return data\n",
    "\n",
    "def to_var(tensor, cuda=False):\n",
    "    \"\"\"Wraps a Tensor in a Variable, optionally placing it on the GPU.\n",
    "\n",
    "        Arguments:\n",
    "            tensor: A Tensor object.\n",
    "            cuda: A boolean flag indicating whether to use the GPU.\n",
    "\n",
    "        Returns:\n",
    "            A Variable object, on the GPU if cuda==True.\n",
    "    \"\"\"\n",
    "    if cuda:\n",
    "        return Variable(tensor.cuda())\n",
    "    else:\n",
    "        return Variable(tensor)\n",
    "\n",
    "def save_loss_plot(train_losses, val_losses, opts):\n",
    "    \"\"\"Saves a plot of the training and validation loss curves.\n",
    "    \"\"\"\n",
    "    plt.figure()\n",
    "    plt.plot(range(len(train_losses)), train_losses)\n",
    "    plt.plot(range(len(val_losses)), val_losses)\n",
    "    plt.title('BS={}, nhid={}'.format(opts.batch_size, opts.hidden_size), fontsize=20)\n",
    "    plt.xlabel('Epochs', fontsize=16)\n",
    "    plt.ylabel('Loss', fontsize=16)\n",
    "    plt.xticks(fontsize=14)\n",
    "    plt.yticks(fontsize=14)\n",
    "    plt.tight_layout()\n",
    "    plt.savefig(os.path.join(opts.checkpoint_path, 'loss_plot.pdf'))\n",
    "    plt.close()\n",
    "\n",
    "def checkpoint(encoder, decoder, idx_dict, opts):\n",
    "    \"\"\"Saves the current encoder and decoder models, along with idx_dict, which\n",
    "    contains the char_to_index and index_to_char mappings, and the start_token\n",
    "    and end_token values.\n",
    "    \"\"\"\n",
    "    with open(os.path.join(opts.checkpoint_path, 'encoder.pt'), 'wb') as f:\n",
    "        torch.save(encoder, f)\n",
    "\n",
    "    with open(os.path.join(opts.checkpoint_path, 'decoder.pt'), 'wb') as f:\n",
    "        torch.save(decoder, f)\n",
    "\n",
    "    with open(os.path.join(opts.checkpoint_path, 'idx_dict.pkl'), 'wb') as f:\n",
    "        pkl.dump(idx_dict, f)"
   ]
  },
  {
   "cell_type": "markdown",
   "metadata": {},
   "source": [
    "## data loader"
   ]
  },
  {
   "cell_type": "code",
   "execution_count": 5,
   "metadata": {},
   "outputs": [],
   "source": [
    "class Corpus():\n",
    "    def __init__(self, corpus):\n",
    "        print(\"Initialize a corpus object\")\n",
    "        self.corpus = corpus\n",
    "        \n",
    "    def save(self, fpath):\n",
    "        with open(fpath, \"wb+\") as fd:\n",
    "            pickle.dump(self, fd)\n",
    "            \n",
    "    def preprocess(self, context_size, save=None):\n",
    "        sentences = self.corpus.split()\n",
    "        tokens = set()\n",
    "        num_of_data = 0\n",
    "        for s in sentences:\n",
    "            if len(s) + 2 > context_size:\n",
    "                num_of_data += len(s) + 2 - context_size\n",
    "                for char in s:\n",
    "                    tokens.add(char)\n",
    "        tokens.add(\"END\") #indicator for end of sentence\n",
    "        tokens.add(\"STA\") #indicator for start of sentence\n",
    "        self.vocal = sorted(list(tokens))\n",
    "        token_to_index = {char: index for (index, char) in enumerate(self.vocal)}\n",
    "        index_to_token = {token_to_index[char]: char for char in token_to_index}\n",
    "        vocSize = len(tokens)\n",
    "                \n",
    "        self.vocSize = vocSize\n",
    "        print(f\"Corpus has vocSize {self.vocSize}, including 'STA' and 'END' indicator\")\n",
    "        self.token_to_index = token_to_index\n",
    "        self.index_to_token = index_to_token\n",
    "        self.context_size = context_size\n",
    "        print(f\"Corpus has context size {self.context_size}\")\n",
    "        # init tensors\n",
    "        input_tensor = torch.zeros(num_of_data, context_size, vocSize)\n",
    "        output_tensor = torch.zeros(num_of_data, vocSize)\n",
    "\n",
    "        data_idx = 0\n",
    "        for s in sentences:\n",
    "            s = list(s)\n",
    "            s.insert(0, \"STA\")\n",
    "            s.append(\"END\")\n",
    "            if len(s) > context_size:\n",
    "                for j in range(len(s) - context_size - 1):\n",
    "                    for c in range(context_size):\n",
    "                        context_index = token_to_index[s[j+c]]\n",
    "                        input_tensor[data_idx][c][context_index] = 1\n",
    "                    output_index = token_to_index[s[j+c + 1]]\n",
    "                    output_tensor[data_idx][output_index] = 1\n",
    "                    data_idx += 1\n",
    "        data = {}\n",
    "        data[\"input_tensor\"] = input_tensor\n",
    "        data[\"output_tensor\"] = output_tensor\n",
    "\n",
    "        self.data = data\n",
    "\n",
    "        if save:\n",
    "            self.save(save)\n",
    "        \n",
    "    def tensor_to_word(self, tensor):\n",
    "        if len(tensor.shape) == 1:\n",
    "            if tensor.shape[0] != self.vocSize:\n",
    "                raise ValueError(f\"Bad tensor input. Should be either in shape(vocSize) or in shape(batch, vocSize), vocSize={self.vocSize}\")\n",
    "            index = int(torch.argmax(tensor))\n",
    "            return self.index_to_token[index] \n",
    "        if len(tensor.shape) == 2:\n",
    "            if tensor.shape[1] != self.vocSize:\n",
    "                raise ValueError(f\"Bad tensor input. Should be either in shape(vocSize) or in shape(batch, vocSize), vocSize={self.vocSize}\")\n",
    "            indexes = torch.argmax(tensor, dim=1)\n",
    "            text = ''.join([self.index_to_token[int(i)] for i in indexes])\n",
    "            return text\n",
    "        else:\n",
    "            raise ValueError(f\"Bad tensor input. Should be either in shape(vocSize) or in shape(batch, vocSize), vocSize={self.vocSize}\")\n",
    "     \n",
    "    def words_to_tensor(self, words):\n",
    "        # words is list\n",
    "        batch_size = len(words)\n",
    "        output_tensor = torch.zeros((batch_size, self.vocSize))\n",
    "        for i in range(batch_size):\n",
    "            w = words[i]\n",
    "            index = self.token_to_index[w]\n",
    "            output_tensor[i][index] = 1\n",
    "        return output_tensor\n",
    "        "
   ]
  },
  {
   "cell_type": "markdown",
   "metadata": {},
   "source": [
    "## Train and evaluation"
   ]
  },
  {
   "cell_type": "code",
   "execution_count": 6,
   "metadata": {},
   "outputs": [],
   "source": [
    "def validation_loss(test_input, test_output, model, loss_func, batch_size=100):\n",
    "    with torch.no_grad():\n",
    "        loss_t = 0.0\n",
    "        for i, (input_b, out_b) in enumerate(get_batches(test_input, test_output, batch_size)):\n",
    "            if model.linear:\n",
    "                input_b = to_var(input_b)\n",
    "            else:\n",
    "                input_b = torch.argmax(to_var(input_b), dim=2).type(torch.LongTensor)\n",
    "            out_b = torch.argmax(to_var(out_b), dim=1).type(torch.LongTensor)\n",
    "            output_predict = model(input_b)\n",
    "            loss_t += loss_func(output_predict, out_b).item()\n",
    "    return loss_t/(i+1)\n",
    "\n",
    "def show_next_word(languageModel, corpus, words):\n",
    "    with torch.no_grad():\n",
    "        context_size = len(words)\n",
    "        if context_size != corpus.context_size:\n",
    "            raise ValueError(f\"Context size doesn't match need {corpus.context_size}\")\n",
    "        input_tensor = corpus.words_to_tensor(words).view(1, context_size, corpus.vocSize)\n",
    "        if not languageModel.linear:\n",
    "            input_tensor = torch.argmax(to_var(input_tensor), dim=2).type(torch.LongTensor)\n",
    "        else:\n",
    "            input_tensor = to_var(input_tensor)\n",
    "        output = languageModel(input_tensor)\n",
    "        return output"
   ]
  },
  {
   "cell_type": "code",
   "execution_count": 7,
   "metadata": {},
   "outputs": [],
   "source": [
    "class LanguageModel(nn.Module):\n",
    "    def __init__(self, vocSize, embedding_dim, context_size, linear=True):\n",
    "        super(LanguageModel, self).__init__()\n",
    "        self.vocSize = vocSize\n",
    "        self.embedding_dim = embedding_dim\n",
    "        self.context_size = context_size\n",
    "        self.linear = linear\n",
    "        # layers\n",
    "        if linear:\n",
    "            self.embedding_layer = nn.Linear(self.vocSize, self.embedding_dim)\n",
    "        else:\n",
    "            self.embedding_layer = nn.Embedding(self.vocSize, self.embedding_dim)\n",
    "        self.linear1 = nn.Linear(context_size * embedding_dim, 128)\n",
    "        self.linear2 = nn.Linear(128, vocSize)\n",
    "        self.softmax = nn.Softmax(dim=2)\n",
    "        \n",
    "    def forward(self, inputs):\n",
    "        batch_size = inputs.shape[0]\n",
    "        embeds = self.embedding_layer(inputs).view((batch_size,1, -1))\n",
    "        o1 = F.sigmoid(self.linear1(embeds))\n",
    "        o2 = self.linear2(o1)\n",
    "        o3 = self.softmax(o2).view(batch_size, self.vocSize)\n",
    "        return o3\n",
    "\n",
    "    "
   ]
  },
  {
   "cell_type": "code",
   "execution_count": 8,
   "metadata": {},
   "outputs": [],
   "source": [
    "corpus = decodeChinese(\"./renjianshige.txt\", \"decoded.txt\")"
   ]
  },
  {
   "cell_type": "code",
   "execution_count": 9,
   "metadata": {},
   "outputs": [
    {
     "name": "stdout",
     "output_type": "stream",
     "text": [
      "Initialize a corpus object\n"
     ]
    }
   ],
   "source": [
    "my_corpus = Corpus(corpus)"
   ]
  },
  {
   "cell_type": "code",
   "execution_count": 10,
   "metadata": {},
   "outputs": [
    {
     "name": "stdout",
     "output_type": "stream",
     "text": [
      "Corpus has vocSize 2362, including 'STA' and 'END' indicator\n",
      "Corpus has context size 3\n"
     ]
    }
   ],
   "source": [
    "my_corpus.preprocess(3, \"data.pk\")"
   ]
  },
  {
   "cell_type": "code",
   "execution_count": 11,
   "metadata": {},
   "outputs": [
    {
     "data": {
      "text/plain": [
       "'生时代'"
      ]
     },
     "execution_count": 11,
     "metadata": {},
     "output_type": "execute_result"
    }
   ],
   "source": [
    "my_corpus.tensor_to_word(my_corpus.data[\"input_tensor\"][102])"
   ]
  },
  {
   "cell_type": "markdown",
   "metadata": {},
   "source": [
    "## With linear"
   ]
  },
  {
   "cell_type": "code",
   "execution_count": 52,
   "metadata": {},
   "outputs": [
    {
     "name": "stdout",
     "output_type": "stream",
     "text": [
      "Split train and test, train size: 39500, test_size: 10000\n",
      "Batch: 100 loss: 7.688051223754883\n",
      "Batch: 200 loss: 7.678033828735352\n",
      "Batch: 300 loss: 7.7079877853393555\n",
      "test loss: 7.714195432662964\n",
      "Split train and test, train size: 39500, test_size: 10000\n",
      "Batch: 100 loss: 7.7279953956604\n",
      "Batch: 200 loss: 7.707977294921875\n",
      "Batch: 300 loss: 7.757962703704834\n",
      "test loss: 7.709945483207703\n",
      "Split train and test, train size: 39500, test_size: 10000\n",
      "Batch: 100 loss: 7.7180376052856445\n",
      "Batch: 200 loss: 7.712050914764404\n",
      "Batch: 300 loss: 7.670931339263916\n",
      "test loss: 7.69998601436615\n",
      "Split train and test, train size: 39500, test_size: 10000\n",
      "Batch: 100 loss: 7.688957691192627\n",
      "Batch: 200 loss: 7.6944427490234375\n",
      "Batch: 300 loss: 7.688025951385498\n",
      "test loss: 7.675041689872741\n",
      "Split train and test, train size: 39500, test_size: 10000\n",
      "Batch: 100 loss: 7.698200225830078\n",
      "Batch: 200 loss: 7.639062404632568\n",
      "Batch: 300 loss: 7.647737979888916\n",
      "test loss: 7.676521506309509\n",
      "Split train and test, train size: 39500, test_size: 10000\n",
      "Batch: 100 loss: 7.658239364624023\n",
      "Batch: 200 loss: 7.648287773132324\n",
      "Batch: 300 loss: 7.6778693199157715\n",
      "test loss: 7.672319393157959\n",
      "Split train and test, train size: 39500, test_size: 10000\n",
      "Batch: 100 loss: 7.738067150115967\n",
      "Batch: 200 loss: 7.68630838394165\n",
      "Batch: 300 loss: 7.687640190124512\n",
      "test loss: 7.6671305799484255\n",
      "Split train and test, train size: 39500, test_size: 10000\n",
      "Batch: 100 loss: 7.647996425628662\n",
      "Batch: 200 loss: 7.708079814910889\n",
      "Batch: 300 loss: 7.648062705993652\n",
      "test loss: 7.668675265312195\n",
      "Split train and test, train size: 39500, test_size: 10000\n",
      "Batch: 100 loss: 7.668041229248047\n",
      "Batch: 200 loss: 7.67800235748291\n",
      "Batch: 300 loss: 7.628073692321777\n",
      "test loss: 7.670395402908325\n",
      "Split train and test, train size: 39500, test_size: 10000\n",
      "Batch: 100 loss: 7.698358535766602\n",
      "Batch: 200 loss: 7.658001899719238\n",
      "Batch: 300 loss: 7.687989711761475\n",
      "test loss: 7.6664239072799685\n"
     ]
    }
   ],
   "source": [
    "languageModel = LanguageModel(my_corpus.vocSize, 52, my_corpus.context_size, True)\n",
    "print(languageModel)\n",
    "loss_f = F.cross_entropy\n",
    "\n",
    "epoches = 10\n",
    "lr = 0.001\n",
    "optimizer = optim.Adam(languageModel.parameters(), lr=lr)\n",
    "loss_report = 100\n",
    "for epoch in range(epoches):\n",
    "    train_idxs, test_idxs = split_train_test(my_corpus.data[\"input_tensor\"], my_corpus.data[\"output_tensor\"], 39500, 10000)\n",
    "    train_input = my_corpus.data[\"input_tensor\"][train_idxs]\n",
    "    train_output = my_corpus.data[\"output_tensor\"][train_idxs]\n",
    "    test_input = my_corpus.data[\"input_tensor\"][test_idxs]\n",
    "    test_output = my_corpus.data[\"output_tensor\"][test_idxs]\n",
    "    for i, (input_b, out_b) in enumerate(get_batches(train_input, train_output, 100)):\n",
    "        input_b = to_var(input_b)\n",
    "        out_b = torch.argmax(to_var(out_b), dim=1).type(torch.LongTensor)\n",
    "        optimizer.zero_grad()   # zero the gradient buffers\n",
    "        output = languageModel(input_b)\n",
    "        loss = loss_f(output, out_b)\n",
    "        loss.backward()\n",
    "        optimizer.step()    #\n",
    "        if (i+1)%loss_report == 0:\n",
    "            print(\"Batch:\", i+1, \"loss:\",loss.item())\n",
    "    # validation error\n",
    "    with torch.no_grad():\n",
    "        loss_t = validation_loss(test_input, test_output, languageModel, loss_f, 100)\n",
    "#         if loss_t < lbest:\n",
    "#             lbest = loss_t\n",
    "#             bestp = mlp.state_dict()\n",
    "       \n",
    "        print(\"test loss:\",loss_t)"
   ]
  },
  {
   "cell_type": "markdown",
   "metadata": {},
   "source": [
    "## With Embedding"
   ]
  },
  {
   "cell_type": "code",
   "execution_count": 73,
   "metadata": {},
   "outputs": [
    {
     "name": "stdout",
     "output_type": "stream",
     "text": [
      "LanguageModel(\n",
      "  (embedding_layer): Embedding(2362, 52)\n",
      "  (linear1): Linear(in_features=156, out_features=128, bias=True)\n",
      "  (linear2): Linear(in_features=128, out_features=2362, bias=True)\n",
      "  (softmax): Softmax(dim=2)\n",
      ")\n",
      "Split train and test, train size: 39500, test_size: 10000\n",
      "Batch: 100 loss: 7.657498359680176\n",
      "Batch: 200 loss: 7.714248180389404\n",
      "Batch: 300 loss: 7.688559532165527\n",
      "test loss: 7.682587690353394\n",
      "Split train and test, train size: 39500, test_size: 10000\n",
      "Batch: 100 loss: 7.6651458740234375\n",
      "Batch: 200 loss: 7.641382217407227\n",
      "Batch: 300 loss: 7.72933292388916\n",
      "test loss: 7.6657306623458865\n",
      "Split train and test, train size: 39500, test_size: 10000\n",
      "Batch: 100 loss: 7.670405864715576\n",
      "Batch: 200 loss: 7.652737617492676\n",
      "Batch: 300 loss: 7.701430797576904\n",
      "test loss: 7.65942198753357\n",
      "Split train and test, train size: 39500, test_size: 10000\n",
      "Batch: 100 loss: 7.6443047523498535\n",
      "Batch: 200 loss: 7.5981950759887695\n",
      "Batch: 300 loss: 7.640997409820557\n",
      "test loss: 7.65095675945282\n",
      "Split train and test, train size: 39500, test_size: 10000\n",
      "Batch: 100 loss: 7.6387529373168945\n",
      "Batch: 200 loss: 7.671393871307373\n",
      "Batch: 300 loss: 7.622343063354492\n",
      "test loss: 7.647157511711121\n",
      "Split train and test, train size: 39500, test_size: 10000\n",
      "Batch: 100 loss: 7.649786949157715\n",
      "Batch: 200 loss: 7.646978378295898\n",
      "Batch: 300 loss: 7.674320697784424\n",
      "test loss: 7.644229984283447\n",
      "Split train and test, train size: 39500, test_size: 10000\n",
      "Batch: 100 loss: 7.676880359649658\n",
      "Batch: 200 loss: 7.670473575592041\n",
      "Batch: 300 loss: 7.647968769073486\n",
      "test loss: 7.641291546821594\n",
      "Split train and test, train size: 39500, test_size: 10000\n",
      "Batch: 100 loss: 7.614972114562988\n",
      "Batch: 200 loss: 7.63101053237915\n",
      "Batch: 300 loss: 7.678394794464111\n",
      "test loss: 7.643541784286499\n",
      "Split train and test, train size: 39500, test_size: 10000\n",
      "Batch: 100 loss: 7.639657974243164\n",
      "Batch: 200 loss: 7.71005392074585\n",
      "Batch: 300 loss: 7.632553577423096\n",
      "test loss: 7.640266242027283\n",
      "Split train and test, train size: 39500, test_size: 10000\n",
      "Batch: 100 loss: 7.6405110359191895\n",
      "Batch: 200 loss: 7.668370246887207\n",
      "Batch: 300 loss: 7.66819953918457\n",
      "test loss: 7.640827159881592\n"
     ]
    }
   ],
   "source": [
    "languageModel = LanguageModel(my_corpus.vocSize, 52, my_corpus.context_size, False)\n",
    "print(languageModel)\n",
    "loss_f = F.cross_entropy\n",
    "epoches = 10\n",
    "lr = 0.001\n",
    "optimizer = optim.Adam(languageModel.parameters(), lr=lr)\n",
    "loss_report = 100\n",
    "for epoch in range(epoches):\n",
    "    train_idxs, test_idxs = split_train_test(my_corpus.data[\"input_tensor\"], my_corpus.data[\"output_tensor\"], 39500, 10000)\n",
    "    train_input = my_corpus.data[\"input_tensor\"][train_idxs]\n",
    "    train_output = my_corpus.data[\"output_tensor\"][train_idxs]\n",
    "    test_input = my_corpus.data[\"input_tensor\"][test_idxs]\n",
    "    test_output = my_corpus.data[\"output_tensor\"][test_idxs]\n",
    "    for i, (input_b, out_b) in enumerate(get_batches(train_input, train_output, 100)):\n",
    "        input_b = torch.argmax(to_var(input_b), dim=2).type(torch.LongTensor)\n",
    "        out_b = torch.argmax(to_var(out_b), dim=1).type(torch.LongTensor)\n",
    "        optimizer.zero_grad()   # zero the gradient buffers\n",
    "        output = languageModel(input_b)\n",
    "        loss = loss_f(output, out_b)\n",
    "        loss.backward()\n",
    "        optimizer.step()    #\n",
    "        if (i+1)%loss_report == 0:\n",
    "            print(\"Batch:\", i+1, \"loss:\",loss.item())\n",
    "    # validation error\n",
    "    with torch.no_grad():\n",
    "        loss_t = validation_loss(test_input, test_output, languageModel, loss_f, 100)\n",
    "#         if loss_t < lbest:\n",
    "#             lbest = loss_t\n",
    "#             bestp = mlp.state_dict()\n",
    "       \n",
    "        print(\"test loss:\",loss_t)"
   ]
  },
  {
   "cell_type": "code",
   "execution_count": 85,
   "metadata": {},
   "outputs": [],
   "source": [
    "v = show_next_word(languageModel, my_corpus, '学生时')"
   ]
  },
  {
   "cell_type": "code",
   "execution_count": 86,
   "metadata": {},
   "outputs": [
    {
     "data": {
      "text/plain": [
       "'，'"
      ]
     },
     "execution_count": 86,
     "metadata": {},
     "output_type": "execute_result"
    }
   ],
   "source": [
    "my_corpus.tensor_to_word(v)"
   ]
  },
  {
   "cell_type": "code",
   "execution_count": 13,
   "metadata": {},
   "outputs": [],
   "source": [
    "data_obj = pickle.load(open('csc421/a1-release/data.pk', 'rb'))\n",
    "vocab = data_obj['vocab']\n",
    "train_inputs, train_targets = data_obj['train_inputs'], data_obj['train_targets']\n",
    "valid_inputs, valid_targets = data_obj['valid_inputs'], data_obj['valid_targets']\n",
    "test_inputs, test_targets = data_obj['test_inputs'], data_obj['test_targets']"
   ]
  },
  {
   "cell_type": "code",
   "execution_count": 14,
   "metadata": {},
   "outputs": [
    {
     "data": {
      "text/plain": [
       "250"
      ]
     },
     "execution_count": 14,
     "metadata": {},
     "output_type": "execute_result"
    }
   ],
   "source": [
    "len(vocab)"
   ]
  },
  {
   "cell_type": "code",
   "execution_count": 15,
   "metadata": {},
   "outputs": [
    {
     "data": {
      "text/plain": [
       "(372500, 3)"
      ]
     },
     "execution_count": 15,
     "metadata": {},
     "output_type": "execute_result"
    }
   ],
   "source": [
    "train_inputs.shape"
   ]
  },
  {
   "cell_type": "code",
   "execution_count": 16,
   "metadata": {},
   "outputs": [
    {
     "data": {
      "text/plain": [
       "(372500,)"
      ]
     },
     "execution_count": 16,
     "metadata": {},
     "output_type": "execute_result"
    }
   ],
   "source": [
    "train_targets.shape"
   ]
  },
  {
   "cell_type": "code",
   "execution_count": null,
   "metadata": {},
   "outputs": [
    {
     "name": "stdout",
     "output_type": "stream",
     "text": [
      "LanguageModel(\n",
      "  (embedding_layer): Embedding(250, 16)\n",
      "  (linear1): Linear(in_features=48, out_features=128, bias=True)\n",
      "  (linear2): Linear(in_features=128, out_features=250, bias=True)\n",
      "  (softmax): Softmax(dim=2)\n",
      ")\n",
      "Epoch: 0\n"
     ]
    },
    {
     "name": "stderr",
     "output_type": "stream",
     "text": [
      "/Users/siyuan.qiu@ibm.com/anaconda3/lib/python3.7/site-packages/torch/nn/functional.py:1350: UserWarning: nn.functional.sigmoid is deprecated. Use torch.sigmoid instead.\n",
      "  warnings.warn(\"nn.functional.sigmoid is deprecated. Use torch.sigmoid instead.\")\n"
     ]
    },
    {
     "name": "stdout",
     "output_type": "stream",
     "text": [
      "Batch: 1000 loss: 5.308314323425293\n",
      "Batch: 2000 loss: 5.2883148193359375\n",
      "Batch: 3000 loss: 5.29075813293457\n",
      "test loss: 5.337990455217259\n",
      "Epoch: 1\n",
      "Batch: 1000 loss: 5.328314781188965\n",
      "Batch: 2000 loss: 5.3483147621154785\n",
      "Batch: 3000 loss: 5.378314971923828\n",
      "test loss: 5.33863225342125\n",
      "Epoch: 2\n",
      "Batch: 1000 loss: 5.288314342498779\n",
      "Batch: 2000 loss: 5.3583149909973145\n",
      "Batch: 3000 loss: 5.308314323425293\n",
      "test loss: 5.3385598921006725\n",
      "Epoch: 3\n",
      "Batch: 1000 loss: 5.398313522338867\n",
      "Batch: 2000 loss: 5.358314037322998\n",
      "Batch: 3000 loss: 5.368308067321777\n",
      "test loss: 5.338095194293607\n",
      "Epoch: 4\n",
      "Batch: 1000 loss: 5.288314342498779\n",
      "Batch: 2000 loss: 5.268314361572266\n",
      "Batch: 3000 loss: 5.3483147621154785\n",
      "test loss: 5.33824655061127\n",
      "Epoch: 5\n",
      "Batch: 1000 loss: 5.318315029144287\n",
      "Batch: 2000 loss: 5.388314723968506\n",
      "Batch: 3000 loss: 5.328314781188965\n",
      "test loss: 5.3400213272340835\n",
      "Epoch: 6\n",
      "Batch: 1000 loss: 5.3583149909973145\n"
     ]
    }
   ],
   "source": [
    "def test_validation_loss(test_input, test_output, model, loss_func, batch_size=100):\n",
    "    with torch.no_grad():\n",
    "        loss_t = 0.0\n",
    "        for i, (input_b, out_b) in enumerate(get_batches(test_input, test_output, batch_size)):\n",
    "            if model.linear:\n",
    "                input_b = to_var(input_b)\n",
    "            output_predict = model(input_b)\n",
    "            loss_t += loss_func(output_predict, out_b).item()\n",
    "    return loss_t/(i+1)\n",
    "languageModel = LanguageModel(250, 16, 3, False)\n",
    "print(languageModel)\n",
    "loss_f = F.cross_entropy\n",
    "epoches = 50\n",
    "lr = 0.1\n",
    "optimizer = optim.Adam(languageModel.parameters(), lr=lr)\n",
    "loss_report = 1000\n",
    "for epoch in range(epoches):\n",
    "    print(f\"Epoch: {epoch}\")\n",
    "    train_input = torch.tensor(train_inputs).type(torch.LongTensor)\n",
    "    train_output = torch.tensor(train_targets).type(torch.LongTensor)\n",
    "    test_input = torch.tensor(valid_inputs).type(torch.LongTensor)\n",
    "    test_output = torch.tensor(valid_targets).type(torch.LongTensor)\n",
    "    for i, (input_b, out_b) in enumerate(get_batches(train_input, train_output, 100)):\n",
    "#         input_b = torch.argmax(to_var(input_b), dim=2).type(torch.LongTensor)\n",
    "#         out_b = torch.argmax(to_var(out_b), dim=1).type(torch.LongTensor)\n",
    "        optimizer.zero_grad()   # zero the gradient buffers\n",
    "        output = languageModel(input_b)\n",
    "        loss = loss_f(output, out_b)\n",
    "        loss.backward()\n",
    "        optimizer.step()    #\n",
    "        if (i+1)%loss_report == 0:\n",
    "            print(\"Batch:\", i+1, \"loss:\",loss.item())\n",
    "    # validation error\n",
    "    with torch.no_grad():\n",
    "        loss_t = test_validation_loss(test_input, test_output, languageModel, loss_f, 100)\n",
    "#         if loss_t < lbest:\n",
    "#             lbest = loss_t\n",
    "#             bestp = mlp.state_dict()\n",
    "       \n",
    "        print(\"test loss:\",loss_t)"
   ]
  },
  {
   "cell_type": "code",
   "execution_count": 132,
   "metadata": {},
   "outputs": [],
   "source": [
    "def predict_next_word( word1, word2, word3, languageModel, k=10):\n",
    "        \"\"\"List the top k predictions for the next word along with their probabilities.\n",
    "        Inputs:\n",
    "            word1: The first word as a string.\n",
    "            word2: The second word as a string.\n",
    "            word3: The third word as a string.\n",
    "            k: The k most probable predictions are shown.\n",
    "        Example usage:\n",
    "            model.predict_next_word('john', 'might', 'be', 3)\n",
    "            model.predict_next_word('life', 'in', 'new', 3)\"\"\"\n",
    "            \n",
    "        if word1 not in vocab:\n",
    "            raise RuntimeError('Word \"{}\" not in vocabulary.'.format(word1))\n",
    "        if word2 not in vocab:\n",
    "            raise RuntimeError('Word \"{}\" not in vocabulary.'.format(word2))\n",
    "        if word3 not in vocab:\n",
    "            raise RuntimeError('Word \"{}\" not in vocabulary.'.format(word3))\n",
    "\n",
    "        idx1, idx2, idx3 = vocab.index(word1), vocab.index(word2), vocab.index(word3)\n",
    "        input = torch.tensor(np.array([idx1, idx2, idx3]).reshape((1, -1))).type(torch.LongTensor)\n",
    "        output = languageModel(input)\n",
    "        return output"
   ]
  },
  {
   "cell_type": "code",
   "execution_count": 133,
   "metadata": {},
   "outputs": [],
   "source": [
    "v =predict_next_word(\"life\", \"in\", \"the\", languageModel)"
   ]
  },
  {
   "cell_type": "code",
   "execution_count": 134,
   "metadata": {},
   "outputs": [],
   "source": [
    "j = torch.argmax(v, dim=1)"
   ]
  },
  {
   "cell_type": "code",
   "execution_count": 135,
   "metadata": {},
   "outputs": [
    {
     "data": {
      "text/plain": [
       "'.'"
      ]
     },
     "execution_count": 135,
     "metadata": {},
     "output_type": "execute_result"
    }
   ],
   "source": [
    "vocab[j]"
   ]
  },
  {
   "cell_type": "code",
   "execution_count": null,
   "metadata": {},
   "outputs": [],
   "source": []
  }
 ],
 "metadata": {
  "kernelspec": {
   "display_name": "Python 3",
   "language": "python",
   "name": "python3"
  },
  "language_info": {
   "codemirror_mode": {
    "name": "ipython",
    "version": 3
   },
   "file_extension": ".py",
   "mimetype": "text/x-python",
   "name": "python",
   "nbconvert_exporter": "python",
   "pygments_lexer": "ipython3",
   "version": "3.7.3"
  }
 },
 "nbformat": 4,
 "nbformat_minor": 2
}
