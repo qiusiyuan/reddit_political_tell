{
 "cells": [
  {
   "cell_type": "markdown",
   "metadata": {},
   "source": [
    "### Load feature assignment"
   ]
  },
  {
   "cell_type": "code",
   "execution_count": 1,
   "metadata": {},
   "outputs": [],
   "source": [
    "import pickle\n",
    "## lemma assignment\n",
    "with open(\"clusterAssignmen100.pk\", \"rb\") as f:\n",
    "    lemma_assignment = pickle.load(f)\n",
    "\n",
    "category = ['Alt', 'Center', 'Left', 'Right']\n",
    "## tag, entity assignment\n",
    "tag = set()\n",
    "entity = set()\n",
    "for cat in category:\n",
    "    with open(cat + \"entity.pk\", \"rb\") as f:\n",
    "        entity.update(pickle.load(f))\n",
    "    with open(cat + \"tag.pk\", \"rb\") as f:\n",
    "        tag.update(pickle.load(f))\n",
    "tag = list(tag)\n",
    "entity = list(entity)\n",
    "tag_assignment = {tag[i]:i for i in range(len(tag))}\n",
    "entity_assignment = {entity[i]:i for i in range(len(entity))}"
   ]
  },
  {
   "cell_type": "code",
   "execution_count": 2,
   "metadata": {},
   "outputs": [
    {
     "data": {
      "text/plain": [
       "(46, 18, 155407)"
      ]
     },
     "execution_count": 2,
     "metadata": {},
     "output_type": "execute_result"
    }
   ],
   "source": [
    "len(tag_assignment),len(entity_assignment), len(lemma_assignment)"
   ]
  },
  {
   "cell_type": "code",
   "execution_count": 3,
   "metadata": {},
   "outputs": [],
   "source": [
    "import numpy as np\n",
    "from time import time\n",
    "# num of features = 46 + 18 + 100 + 1 = 165 (46 tags, 18 entities, 100 lemma category, 1 sentence length(option))\n",
    "n_feats = 164\n",
    "def vectorizeFeatures(data):\n",
    "    \"\"\"\n",
    "    data: list of dict{feature: number of feature}\n",
    "    return np.array(n_data, n_feats)\n",
    "    \"\"\"\n",
    "    start = time()\n",
    "    n_data = len(data)\n",
    "    feats = np.zeros((n_data, n_feats))\n",
    "    valid_list = []\n",
    "    for i in range(n_data):\n",
    "        datum = data[i]\n",
    "        sentence_len = datum[\"LENGTH\"]\n",
    "        if sentence_len == 0:\n",
    "            continue\n",
    "        for key in datum:\n",
    "            if key in tag_assignment:\n",
    "                feats[i][tag_assignment[key]] = datum[key]/sentence_len\n",
    "            elif key in entity_assignment:\n",
    "                feats[i][entity_assignment[key] + 46] = datum[key]/sentence_len\n",
    "            elif key in lemma_assignment:\n",
    "                feats[i][lemma_assignment[key] + 64] += datum[key]/sentence_len\n",
    "        valid_list.append(i)\n",
    "    print(time()-start)\n",
    "    return feats[valid_list]"
   ]
  },
  {
   "cell_type": "markdown",
   "metadata": {},
   "source": [
    "### Too many data (2 million) store a small equal sized data for each category"
   ]
  },
  {
   "cell_type": "code",
   "execution_count": 4,
   "metadata": {
    "collapsed": true
   },
   "outputs": [],
   "source": [
    "def smallData(data, category, size):\n",
    "    np.random.shuffle(data)\n",
    "    np.save(category + \"npSmall\", data[:size])"
   ]
  },
  {
   "cell_type": "markdown",
   "metadata": {},
   "source": [
    "### vectorize data"
   ]
  },
  {
   "cell_type": "code",
   "execution_count": 5,
   "metadata": {},
   "outputs": [
    {
     "name": "stdout",
     "output_type": "stream",
     "text": [
      "Loaded data:  Alt\n",
      "7.888857841491699\n",
      "Vectorized data:  Alt\n",
      "Stored np large:  Alt\n",
      "Stored np small Alt\n",
      "Loaded data:  Center\n",
      "23.311243057250977\n",
      "Vectorized data:  Center\n",
      "Stored np large:  Center\n",
      "Stored np small Center\n",
      "Loaded data:  Left\n",
      "26.818711042404175\n",
      "Vectorized data:  Left\n",
      "Stored np large:  Left\n",
      "Stored np small Left\n",
      "Loaded data:  Right\n",
      "18.181073904037476\n",
      "Vectorized data:  Right\n",
      "Stored np large:  Right\n",
      "Stored np small Right\n"
     ]
    }
   ],
   "source": [
    "small_size = 100000\n",
    "for cat in category:\n",
    "    with open(cat + \"feats.pk\", \"rb\") as f:\n",
    "        data = pickle.load(f)\n",
    "    print(\"Loaded data: \", cat)\n",
    "    feats = vectorizeFeatures(data)\n",
    "    print(\"Vectorized data: \", cat)\n",
    "    np.save(cat + \"npLarge\", feats)\n",
    "    print(\"Stored np large: \", cat)\n",
    "    smallData(feats, cat, small_size)\n",
    "    print(\"Stored np small\", cat)"
   ]
  },
  {
   "cell_type": "code",
   "execution_count": null,
   "metadata": {
    "collapsed": true
   },
   "outputs": [],
   "source": []
  }
 ],
 "metadata": {
  "kernelspec": {
   "display_name": "Python 3",
   "language": "python",
   "name": "python3"
  },
  "language_info": {
   "codemirror_mode": {
    "name": "ipython",
    "version": 3
   },
   "file_extension": ".py",
   "mimetype": "text/x-python",
   "name": "python",
   "nbconvert_exporter": "python",
   "pygments_lexer": "ipython3",
   "version": "3.6.4"
  }
 },
 "nbformat": 4,
 "nbformat_minor": 2
}
