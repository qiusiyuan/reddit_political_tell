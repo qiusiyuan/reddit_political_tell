{
 "cells": [
  {
   "cell_type": "markdown",
   "metadata": {},
   "source": [
    "## Compare similarity and shrink the lemma base"
   ]
  },
  {
   "cell_type": "code",
   "execution_count": 2,
   "metadata": {
    "collapsed": true
   },
   "outputs": [],
   "source": [
    "### load lemma\n",
    "import pickle\n",
    "import os\n",
    "data_dir = \"../data/\"\n",
    "category = ['Alt', 'Center', 'Left', 'Right']"
   ]
  },
  {
   "cell_type": "code",
   "execution_count": 2,
   "metadata": {
    "collapsed": true
   },
   "outputs": [],
   "source": [
    "import numpy as np\n",
    "from numpy import linalg as LA\n",
    "def similarity_distance(v1, v2):\n",
    "    similarity = np.sum(v1*v2)/(LA.norm(v1)*LA.norm(v2))\n",
    "    diff = v1-v2\n",
    "    distance = np.sqrt(np.sum(diff**2))\n",
    "    return similarity, distance"
   ]
  },
  {
   "cell_type": "code",
   "execution_count": 34,
   "metadata": {
    "collapsed": true
   },
   "outputs": [],
   "source": [
    "from sklearn.cluster import KMeans\n",
    "from nltk.cluster import KMeansClusterer\n",
    "import nltk\n",
    "import time\n",
    "class LemmaClusteringModel():\n",
    "    def __init__(self, spa_nlp, lemma):\n",
    "        self.nlp = spa_nlp\n",
    "        self.lemma = list(lemma)\n",
    "        self.tokens = []\n",
    "        self.lemma_vectors = []\n",
    "        \n",
    "    def vectorize(self, n_divide):\n",
    "        self.tokens = []\n",
    "        per_len = len(self.lemma)//n_divide\n",
    "        divide = []\n",
    "        last = 0\n",
    "        while last < len(self.lemma):\n",
    "            divide.append(self.lemma[last:last+per_len])\n",
    "            last += per_len\n",
    "        for d in divide:\n",
    "            for t in d:\n",
    "                mo = nlp(t)\n",
    "                if len(mo) == 1:         \n",
    "                    self.tokens.append(mo[0])\n",
    "        self.lemma_vectors=[token.vector for token in self.tokens]\n",
    "\n",
    "    def nltkkmeans(self, num_cluster, distance, iters):\n",
    "        start = time.time()\n",
    "        kclusterer = KMeansClusterer(num_cluster, distance=distance, repeats=iters)\n",
    "        lemma_vectors = [token.vector for token in self.tokens]\n",
    "        assigned_clusters = kclusterer.cluster(lemma_vectors, assign_clusters=True)\n",
    "        print(time.time() - start)\n",
    "        return {self.tokens[i].text: assigned_clusters[i] for i in range(len(self.tokens))}\n",
    "    \n",
    "    def sklearnkmeans(self, num_cluster, iters):\n",
    "        ## sklearn is much faster than nltk kmeans in large data set (>10000)\n",
    "        start = time.time()\n",
    "        kmeans = KMeans(n_clusters=num_cluster, max_iter = iters)\n",
    "        kmeans.fit(self.lemma_vectors)\n",
    "        print(time.time() - start)\n",
    "        return {self.tokens[i].text: kmeans.labels_[i] for i in range(len(self.tokens))}\n",
    "        "
   ]
  },
  {
   "cell_type": "code",
   "execution_count": 29,
   "metadata": {
    "collapsed": true
   },
   "outputs": [],
   "source": [
    "import spacy\n",
    "nlp = spacy.load('en_core_web_lg', disable=['parser', 'ner', 'tagger'])"
   ]
  },
  {
   "cell_type": "code",
   "execution_count": 19,
   "metadata": {},
   "outputs": [
    {
     "name": "stdout",
     "output_type": "stream",
     "text": [
      "69261\n",
      "112547\n",
      "108956\n",
      "99422\n"
     ]
    },
    {
     "data": {
      "text/plain": [
       "155457"
      ]
     },
     "execution_count": 19,
     "metadata": {},
     "output_type": "execute_result"
    }
   ],
   "source": [
    "import string\n",
    "lemma = set()\n",
    "for cat in category:\n",
    "    with open(cat + \"lemma.pk\", \"rb\") as f:\n",
    "        lemma_ = pickle.load(f)\n",
    "        print(len(lemma_))\n",
    "    les = []\n",
    "    for x in list(lemma_):\n",
    "        if len(x) < 10 and all([i in string.ascii_lowercase for i in x]):\n",
    "            les.append(x)\n",
    "    lemma.update(les)\n",
    "len(lemma)"
   ]
  },
  {
   "cell_type": "code",
   "execution_count": 35,
   "metadata": {
    "collapsed": true
   },
   "outputs": [],
   "source": [
    "clmodel = LemmaClusteringModel(nlp, lemma)"
   ]
  },
  {
   "cell_type": "code",
   "execution_count": 36,
   "metadata": {
    "collapsed": true
   },
   "outputs": [],
   "source": [
    "clmodel.vectorize(10)"
   ]
  },
  {
   "cell_type": "code",
   "execution_count": 40,
   "metadata": {},
   "outputs": [
    {
     "data": {
      "text/plain": [
       "(155407, 155407)"
      ]
     },
     "execution_count": 40,
     "metadata": {},
     "output_type": "execute_result"
    }
   ],
   "source": [
    "len(clmodel.tokens),len(clmodel.lemma_vectors)"
   ]
  },
  {
   "cell_type": "code",
   "execution_count": 73,
   "metadata": {},
   "outputs": [
    {
     "name": "stdout",
     "output_type": "stream",
     "text": [
      "723.2858109474182\n"
     ]
    }
   ],
   "source": [
    "MAX_ITER = 1000\n",
    "CLUSTER = 110\n",
    "assignment = clmodel.sklearnkmeans(CLUSTER, MAX_ITER)"
   ]
  },
  {
   "cell_type": "code",
   "execution_count": 74,
   "metadata": {},
   "outputs": [
    {
     "name": "stdout",
     "output_type": "stream",
     "text": [
      "98\n",
      "51\n",
      "69\n",
      "51\n",
      "105\n",
      "98\n",
      "98\n",
      "51\n",
      "101\n"
     ]
    }
   ],
   "source": [
    "g = []\n",
    "for i in assignment:\n",
    "    if i  == \"big\":\n",
    "        print(assignment[i])\n",
    "    if i == \"huge\":\n",
    "        print(assignment[i])\n",
    "    if i == \"home\":\n",
    "        print(assignment[i])\n",
    "    if i == \"house\":\n",
    "        print(assignment[i])\n",
    "    if i == \"mother\":\n",
    "        print(assignment[i])\n",
    "    if i == \"brother\":\n",
    "        print(assignment[i])\n",
    "    if i == \"father\":\n",
    "        print(assignment[i])\n",
    "    if i == \"fat\":\n",
    "        print(assignment[i])\n",
    "    if i == \"thin\":\n",
    "        print(assignment[i])"
   ]
  },
  {
   "cell_type": "code",
   "execution_count": 65,
   "metadata": {
    "collapsed": true
   },
   "outputs": [],
   "source": [
    "for i in range(len(clmodel.lemma)):\n",
    "    if clmodel.tokens[i].text == \"big\":\n",
    "        t1 = clmodel.lemma_vectors[i]\n",
    "    if clmodel.tokens[i].text == \"house\":\n",
    "        t2 = clmodel.lemma_vectors[i]\n",
    "    if clmodel.tokens[i].text == \"home\":\n",
    "        t3 = clmodel.lemma_vectors[i]"
   ]
  },
  {
   "cell_type": "code",
   "execution_count": 66,
   "metadata": {},
   "outputs": [
    {
     "name": "stdout",
     "output_type": "stream",
     "text": [
      "(0.40848243, 6.450766) (0.73886245, 4.344995) (0.39892742, 6.4241996)\n"
     ]
    }
   ],
   "source": [
    "print(similarity_distance(t1, t2), similarity_distance(t2, t3), similarity_distance(t1,t3))"
   ]
  },
  {
   "cell_type": "code",
   "execution_count": 60,
   "metadata": {
    "collapsed": true
   },
   "outputs": [],
   "source": [
    "with open(\"clusterAssignmen100.pk\", \"wb\") as f:\n",
    "    pickle.dump(assignment, f)"
   ]
  },
  {
   "cell_type": "markdown",
   "metadata": {},
   "source": [
    "## Assignment for each datum"
   ]
  },
  {
   "cell_type": "code",
   "execution_count": 3,
   "metadata": {},
   "outputs": [],
   "source": [
    "with open(\"clusterAssignmen100.pk\", \"rb\") as f:\n",
    "    assignment = pickle.load(f)"
   ]
  },
  {
   "cell_type": "code",
   "execution_count": null,
   "metadata": {
    "collapsed": true
   },
   "outputs": [],
   "source": []
  }
 ],
 "metadata": {
  "kernelspec": {
   "display_name": "Python 3",
   "language": "python",
   "name": "python3"
  },
  "language_info": {
   "codemirror_mode": {
    "name": "ipython",
    "version": 3
   },
   "file_extension": ".py",
   "mimetype": "text/x-python",
   "name": "python",
   "nbconvert_exporter": "python",
   "pygments_lexer": "ipython3",
   "version": "3.6.4"
  }
 },
 "nbformat": 4,
 "nbformat_minor": 2
}
