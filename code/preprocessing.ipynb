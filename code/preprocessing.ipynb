{
 "cells": [
  {
   "cell_type": "markdown",
   "metadata": {},
   "source": [
    "## Preprocess raw reddit data"
   ]
  },
  {
   "cell_type": "code",
   "execution_count": 1,
   "metadata": {
    "collapsed": true
   },
   "outputs": [],
   "source": [
    "import os\n",
    "from preprocess import *\n",
    "data_dir = \"../data/\"\n",
    "category = ['Alt', 'Center', 'Left', 'Right']"
   ]
  },
  {
   "cell_type": "markdown",
   "metadata": {},
   "source": [
    "### stop words"
   ]
  },
  {
   "cell_type": "code",
   "execution_count": 2,
   "metadata": {
    "collapsed": true
   },
   "outputs": [],
   "source": [
    "with open(os.path.join(data_dir, \"StopWords\")) as f:\n",
    "    stop_words = set(f.read().splitlines())"
   ]
  },
  {
   "cell_type": "markdown",
   "metadata": {},
   "source": [
    "### Function definition"
   ]
  },
  {
   "cell_type": "code",
   "execution_count": 3,
   "metadata": {
    "collapsed": true
   },
   "outputs": [],
   "source": [
    "### fetch a batch of strings from raw data\n",
    "import json\n",
    "import html\n",
    "def fetchBatch(source, batch_size=None):\n",
    "    \"\"\"\n",
    "    return Array of string\n",
    "    \"\"\"\n",
    "    with open(source) as f:\n",
    "        data = json.load(f)\n",
    "    if not batch_size:\n",
    "        size = len(data)\n",
    "    else:\n",
    "        size = batch_size\n",
    "    output = [html.unescape(json.loads(data[i])['body']) for i in range(size)]\n",
    "    return output\n",
    "    \n",
    "        "
   ]
  },
  {
   "cell_type": "code",
   "execution_count": 4,
   "metadata": {
    "collapsed": true
   },
   "outputs": [],
   "source": [
    "### function to extract features and return set for tag, lemma, entity\n",
    "### return features in a way of dict\n",
    "### using a spacy pipeline with multi-threading\n",
    "import time\n",
    "import pickle\n",
    "from collections import Counter\n",
    "def extract(nlp, data, batch_size, n_threads, category, stopwords=[], store=True, report_per_doc=10):\n",
    "    start = time.time()\n",
    "    tag = set()\n",
    "    lemma = set()\n",
    "    entity = set()\n",
    "    feats = []\n",
    "    num = 0\n",
    "    total = len(data)\n",
    "    for doc in nlp.pipe(data, batch_size=batch_size, n_threads=n_threads):\n",
    "        num += 1\n",
    "        if num % report_per_doc == 0:\n",
    "            print(f\"{num}/{total}\")\n",
    "        t = Counter()\n",
    "        l = Counter()\n",
    "        e = Counter()\n",
    "        length = 0\n",
    "        for i in doc:\n",
    "            if not i.is_punct and i.tag_!='' and i.tag_ not in\".:,\" and i.lemma_.isalpha() and i.lemma_ not in stopwords:\n",
    "                length += 1\n",
    "                tag.add(i.tag_)\n",
    "                t.update([i.tag_])\n",
    "                lemma.add(i.lemma_)\n",
    "                l.update([i.lemma_])\n",
    "        entity.update([ent.label_ for ent in doc.ents])\n",
    "        e.update([ent.label_ for ent in doc.ents])\n",
    "        f = {}\n",
    "        f.update(dict(t))\n",
    "        f.update(dict(l))\n",
    "        f.update(dict(e))\n",
    "        f.update({\"LENGTH\":length})\n",
    "        feats.append(f)\n",
    "    print(time.time() - start)\n",
    "    if store:\n",
    "        with open(category +\"tag.pk\", \"wb+\") as f:\n",
    "            pickle.dump(tag, f)\n",
    "        with open(category + \"lemma.pk\", \"wb+\") as f:\n",
    "            pickle.dump(lemma, f)\n",
    "        with open(category + \"entity.pk\", \"wb+\") as f:\n",
    "            pickle.dump(entity, f)\n",
    "        with open(category +\"feats.pk\", \"wb+\") as f:\n",
    "            pickle.dump(feats, f)\n",
    "    return tag, lemma, entity, feats\n"
   ]
  },
  {
   "cell_type": "markdown",
   "metadata": {},
   "source": [
    "### Using spacy 'en_core_web_sm' model to tag, lemmatize, and figure out entities"
   ]
  },
  {
   "cell_type": "code",
   "execution_count": 8,
   "metadata": {
    "collapsed": true
   },
   "outputs": [],
   "source": [
    "import spacy\n",
    "nlp = spacy.load('en', disable=['parser'])"
   ]
  },
  {
   "cell_type": "code",
   "execution_count": 10,
   "metadata": {},
   "outputs": [
    {
     "name": "stdout",
     "output_type": "stream",
     "text": [
      "10000/200272\n",
      "20000/200272\n",
      "30000/200272\n",
      "40000/200272\n",
      "50000/200272\n",
      "60000/200272\n",
      "70000/200272\n",
      "80000/200272\n",
      "90000/200272\n",
      "100000/200272\n",
      "110000/200272\n",
      "120000/200272\n",
      "130000/200272\n",
      "140000/200272\n",
      "150000/200272\n",
      "160000/200272\n",
      "170000/200272\n",
      "180000/200272\n",
      "190000/200272\n",
      "200000/200272\n",
      "1135.243642091751\n"
     ]
    }
   ],
   "source": [
    "for cat in category[]:\n",
    "    data = fetchBatch(os.path.join(data_dir, cat))\n",
    "    extract(nlp, data, 1000, 4, cat, stopwords=stop_words, store=True, report_per_doc=10000)"
   ]
  },
  {
   "cell_type": "code",
   "execution_count": null,
   "metadata": {
    "collapsed": true
   },
   "outputs": [],
   "source": []
  }
 ],
 "metadata": {
  "kernelspec": {
   "display_name": "Python 3",
   "language": "python",
   "name": "python3"
  },
  "language_info": {
   "codemirror_mode": {
    "name": "ipython",
    "version": 3
   },
   "file_extension": ".py",
   "mimetype": "text/x-python",
   "name": "python",
   "nbconvert_exporter": "python",
   "pygments_lexer": "ipython3",
   "version": "3.6.4"
  }
 },
 "nbformat": 4,
 "nbformat_minor": 2
}
